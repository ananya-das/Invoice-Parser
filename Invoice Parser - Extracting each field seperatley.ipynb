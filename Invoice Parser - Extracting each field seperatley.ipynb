{
 "cells": [
  {
   "cell_type": "markdown",
   "id": "473930f7",
   "metadata": {},
   "source": [
    "# Technical Assignment"
   ]
  },
  {
   "cell_type": "markdown",
   "id": "82b52b38",
   "metadata": {},
   "source": [
    "## 1. Reading the data from the PDF\n",
    "\n",
    "* Given two PDF's: pinnacle_inv_2020000032 and pinnacle_inv_3300004000\n",
    "* Read these two PDF's using EasyOCR and PyTesseract only\n",
    "\n",
    "- Normalize the PDF's into images and then extract the contents using PyTesseract. "
   ]
  },
  {
   "cell_type": "markdown",
   "id": "6142ac4e",
   "metadata": {},
   "source": [
    "Download PyTesseract for windows through this link: https://github.com/UB-Mannheim/tesseract/wiki or https://pypi.org/project/pytesseract/\n",
    "\n"
   ]
  },
  {
   "cell_type": "code",
   "execution_count": 3,
   "id": "fe0001ac",
   "metadata": {
    "scrolled": true
   },
   "outputs": [
    {
     "name": "stdout",
     "output_type": "stream",
     "text": [
      "Collecting pytesseract\n",
      "  Downloading pytesseract-0.3.10-py3-none-any.whl (14 kB)\n",
      "Collecting packaging>=21.3\n",
      "  Using cached packaging-21.3-py3-none-any.whl (40 kB)\n",
      "Requirement already satisfied: Pillow>=8.0.0 in c:\\users\\ananya\\anaconda3\\lib\\site-packages (from pytesseract) (8.2.0)\n",
      "Requirement already satisfied: pyparsing!=3.0.5,>=2.0.2 in c:\\users\\ananya\\anaconda3\\lib\\site-packages (from packaging>=21.3->pytesseract) (2.4.7)\n",
      "Installing collected packages: packaging, pytesseract\n",
      "  Attempting uninstall: packaging\n",
      "    Found existing installation: packaging 20.9\n",
      "    Uninstalling packaging-20.9:\n",
      "Note: you may need to restart the kernel to use updated packages.      Successfully uninstalled packaging-20.9\n",
      "Successfully installed packaging-21.3 pytesseract-0.3.10\n",
      "\n"
     ]
    }
   ],
   "source": [
    "pip install pytesseract"
   ]
  },
  {
   "cell_type": "code",
   "execution_count": 30,
   "id": "19af4a92",
   "metadata": {},
   "outputs": [
    {
     "name": "stdout",
     "output_type": "stream",
     "text": [
      "Requirement already satisfied: Pillow in c:\\users\\ananya\\anaconda3\\lib\\site-packages (8.2.0)\n"
     ]
    }
   ],
   "source": [
    "!pip install Pillow"
   ]
  },
  {
   "cell_type": "code",
   "execution_count": 1,
   "id": "39e6fa06",
   "metadata": {},
   "outputs": [],
   "source": [
    "# Import Pytesseract library which converts image to string\n",
    "import pytesseract\n",
    "from pytesseract import image_to_string"
   ]
  },
  {
   "cell_type": "code",
   "execution_count": 2,
   "id": "68364759",
   "metadata": {},
   "outputs": [],
   "source": [
    "pytesseract.pytesseract.tesseract_cmd=r\"C:\\Program Files\\Tesseract-OCR\\tesseract.exe\""
   ]
  },
  {
   "cell_type": "code",
   "execution_count": 3,
   "id": "367aef63",
   "metadata": {},
   "outputs": [],
   "source": [
    "from PIL import Image"
   ]
  },
  {
   "cell_type": "code",
   "execution_count": 4,
   "id": "eeb1aa0c",
   "metadata": {},
   "outputs": [
    {
     "name": "stdout",
     "output_type": "stream",
     "text": [
      "Requirement already satisfied: pdf2image in c:\\users\\ananya\\anaconda3\\lib\\site-packages (1.16.0)\n",
      "Requirement already satisfied: pillow in c:\\users\\ananya\\anaconda3\\lib\\site-packages (from pdf2image) (8.2.0)\n"
     ]
    }
   ],
   "source": [
    "# To convert PDF into image\n",
    "\n",
    "!pip install pdf2image"
   ]
  },
  {
   "cell_type": "code",
   "execution_count": 4,
   "id": "101a64ef",
   "metadata": {},
   "outputs": [],
   "source": [
    "# Import library and methods which converts PDF to image\n",
    "from pdf2image import convert_from_path"
   ]
  },
  {
   "cell_type": "code",
   "execution_count": 5,
   "id": "0f90339a",
   "metadata": {},
   "outputs": [],
   "source": [
    "# Write the function for converting PDF to Image\n",
    "\n",
    "def convert_pdf_to_img(pdf_file):\n",
    "    return convert_from_path(pdf_file ,500,poppler_path=r'C:\\Program Files\\poppler-0.68.0\\bin') #The convert_from_path method directly converts the PDF to image "
   ]
  },
  {
   "cell_type": "code",
   "execution_count": 6,
   "id": "49b17af6",
   "metadata": {},
   "outputs": [],
   "source": [
    "# Write the function for converting Image into text file\n",
    "\n",
    "def convert_image_to_text(file):\n",
    "    text = image_to_string(file)\n",
    "    return text"
   ]
  },
  {
   "cell_type": "code",
   "execution_count": 7,
   "id": "5347f535",
   "metadata": {},
   "outputs": [],
   "source": [
    "# Combining the above two functions into one function:\n",
    "\n",
    "def get_text_from_pdf(pdf_file):\n",
    "    images = convert_pdf_to_img(pdf_file)  #Pdf file is the input and the image output is stored in images variable\n",
    "    \n",
    "    final_text = \"\"    # Create an empty variable which will hold the text extracted from the image\n",
    "    \n",
    "    for pg, img in enumerate(images): \n",
    "        final_text += convert_image_to_text(img)   # final text keeps on appending the text extracted from image into the string\n",
    "    \n",
    "    return final_text"
   ]
  },
  {
   "cell_type": "code",
   "execution_count": 8,
   "id": "0c72351f",
   "metadata": {},
   "outputs": [],
   "source": [
    "pdf1 = \"inv_2020000032.pdf\"\n",
    "pdf2 = \"inv_3300004000.pdf\""
   ]
  },
  {
   "cell_type": "code",
   "execution_count": 9,
   "id": "2590dcc4",
   "metadata": {
    "scrolled": false
   },
   "outputs": [
    {
     "data": {
      "text/plain": [
       "'AMAZON COM INVOICE\\n440 Terry Avenue\\nDATE INVOICE NO.\\nNorth Seattle 03/18/20 5081189\\nWA 98109 USA\\nBILL TO SHIP TO\\nPINNACLE SOLUTIONS PINNACLE SOLUTIONS 21747\\n21747 BETRAM RD BETRAM RD\\nSAN JOSE 95120 SAN JOSE 95120\\nAccounts Payable M/S\\nP.O. Number Terms Ship Date Due Date\\n2020000032 Net 60 03/28/20 04/18/20\\nltem Description Quantity Price Each Amount\\nA8025690 Premium A4 (8.3\"x 11.7\") Printer Paper (100 Sheets 500 9.95 4,975.00\\nSubtotal USD4,975.00\\nSales Tax $0.00\\n\\nTotal\\n\\nUSD 4,975.00\\n\\n'"
      ]
     },
     "execution_count": 9,
     "metadata": {},
     "output_type": "execute_result"
    }
   ],
   "source": [
    "get_text_from_pdf(pdf1)"
   ]
  },
  {
   "cell_type": "code",
   "execution_count": 10,
   "id": "dc5bcd80",
   "metadata": {
    "scrolled": true
   },
   "outputs": [
    {
     "data": {
      "text/plain": [
       "'=air ATOMY LIVING IF COMPANY\\naan ae ee ea RNY”\\n\\nBill To: Invoice,\\nPINNACLE SOLUTIONS Invoice : 0380\\n\\n21747 BERTRAM ROAD Date: 03/01/2020\\nSAN JOSE 95120 P. Order #: 3300004000\\nCA Terms: 30 days\\n\\nAttn) :Mr. Smith\\n\\nD Tal )\\nBeing supply of skilled labor, tools and equipments for grease trap desludging by means of\\n\\nvacuum desludging tanker and sewage effluent sampling (sewerage treatment service)\\n\\nfor the month of Jan. 2020. USD 10,300.00\\n\\n(Our D/O No. 3046)\\n\\nSub total * USD 10,300.00\\nee 121i el MD] DE (Ooi 121 010\\n—RM_10,300.00__\\n\\nUSD TEN Thousand Three Hundred And 0 Cents.\\n\\nAuthorized Signature\\n\\n=\\nMail Add.: 885, Central Parkway 78323 Texas\\nEmail: inquiry@if.com\\n'"
      ]
     },
     "execution_count": 10,
     "metadata": {},
     "output_type": "execute_result"
    }
   ],
   "source": [
    "get_text_from_pdf(pdf2)"
   ]
  },
  {
   "cell_type": "markdown",
   "id": "a62eb098",
   "metadata": {},
   "source": [
    "## To extract the values from the keywords of our choice from PDF :pinnacle_inv_3300004000.pdf "
   ]
  },
  {
   "cell_type": "markdown",
   "id": "8f2522a9",
   "metadata": {},
   "source": [
    "* Try to extract the values for the PDF 2 (pinnacle_inv_3300004000.pdf)\n",
    "* When the  required keyword and it's value is in the same line, we can iterate through each line of the list containing the text from the PDF"
   ]
  },
  {
   "cell_type": "code",
   "execution_count": 12,
   "id": "c4350aac",
   "metadata": {},
   "outputs": [],
   "source": [
    "ft = get_text_from_pdf(pdf2)"
   ]
  },
  {
   "cell_type": "code",
   "execution_count": 18,
   "id": "e545bc60",
   "metadata": {
    "scrolled": false
   },
   "outputs": [
    {
     "name": "stdout",
     "output_type": "stream",
     "text": [
      "['=air ATOMY LIVING IF COMPANY', 'aan ae ee ea RNY”', '', 'Bill To: Invoice,', 'PINNACLE SOLUTIONS Invoice : 0380', '', '21747 BERTRAM ROAD Date: 03/01/2020', 'SAN JOSE 95120 P. Order #: 3300004000', 'CA Terms: 30 days', '', 'Attn) :Mr. Smith', '', 'D Tal )', 'Being supply of skilled labor, tools and equipments for grease trap desludging by means of', '', 'vacuum desludging tanker and sewage effluent sampling (sewerage treatment service)', '', 'for the month of Jan. 2020. USD 10,300.00', '', '(Our D/O No. 3046)', '', 'Sub total * USD 10,300.00', 'ee 121i el MD] DE (Ooi 121 010', '—RM_10,300.00__', '', 'USD TEN Thousand Three Hundred And 0 Cents.', '', 'Authorized Signature', '', '=', 'Mail Add.: 885, Central Parkway 78323 Texas', 'Email: inquiry@if.com', '']\n"
     ]
    }
   ],
   "source": [
    "txt = ft.split(\"\\n\")\n",
    "print(txt)"
   ]
  },
  {
   "cell_type": "markdown",
   "id": "d98f322c",
   "metadata": {},
   "source": [
    "### To get the InvoiceNumber, Date and P. Order Number"
   ]
  },
  {
   "cell_type": "code",
   "execution_count": 66,
   "id": "cd31b1df",
   "metadata": {},
   "outputs": [
    {
     "name": "stdout",
     "output_type": "stream",
     "text": [
      "Invoice Number:0380, Inoice Date: 03/01/2020, P. Order: 3300004000\n"
     ]
    }
   ],
   "source": [
    "invoice_no =\"\"\n",
    "invoice_date = \"\"\n",
    "po_order_no = \"\"\n",
    "for i in range(len(txt)):\n",
    "    if txt[i].find(\"Invoice \")!= -1:\n",
    "        invoice_no = txt[i].split(': ')[1]\n",
    "    if txt[i].find(\"Date\")!= -1:\n",
    "        invoice_date = txt[i].split(': ')[1]\n",
    "    if txt[i].find(\"P. Order #\")!= -1:\n",
    "        po_order_no = txt[i].split(': ')[1]\n",
    "        \n",
    "#print(invoice_no+\",\"+invoice_date)\n",
    "print(\"Invoice Number:\" + invoice_no + \", Inoice Date: \" + invoice_date+\", P. Order: \"+ po_order_no )"
   ]
  },
  {
   "cell_type": "markdown",
   "id": "ef3ae05a",
   "metadata": {},
   "source": [
    "## To extract the values from the keywords of our choice from PDF :pinnacle_inv_2020000032.pdf"
   ]
  },
  {
   "cell_type": "markdown",
   "id": "50e03cdc",
   "metadata": {},
   "source": [
    "Since the data is stored in tabular format, we can extract the keywords and it's value using regular expresssion "
   ]
  },
  {
   "cell_type": "code",
   "execution_count": 20,
   "id": "83ae2c17",
   "metadata": {},
   "outputs": [],
   "source": [
    "import cv2\n",
    "import os\n",
    "import pandas as pd\n",
    "import seaborn as sns\n",
    "import matplotlib.pyplot as plt\n",
    "import numpy as np\n",
    "import csv\n",
    "import nltk\n",
    "import re\n",
    "from nltk.tokenize import word_tokenize\n",
    "from nltk.corpus import wordnet "
   ]
  },
  {
   "cell_type": "code",
   "execution_count": 12,
   "id": "8faa0dc1",
   "metadata": {},
   "outputs": [],
   "source": [
    "import re"
   ]
  },
  {
   "cell_type": "code",
   "execution_count": 13,
   "id": "fb0ac4da",
   "metadata": {},
   "outputs": [],
   "source": [
    "pdf_file = \"pinnacle_inv_2020000032.pdf\""
   ]
  },
  {
   "cell_type": "code",
   "execution_count": 14,
   "id": "c357fec1",
   "metadata": {},
   "outputs": [],
   "source": [
    "# Converting PDF to image and storing it in the variable image\n",
    "image = convert_pdf_to_img(pdf_file)"
   ]
  },
  {
   "cell_type": "code",
   "execution_count": 15,
   "id": "a7ed8fb9",
   "metadata": {},
   "outputs": [],
   "source": [
    "final_text = \"\"\n",
    "for pg, img in enumerate(image): \n",
    "        final_text += convert_image_to_text(img)"
   ]
  },
  {
   "cell_type": "markdown",
   "id": "4ffcf428",
   "metadata": {},
   "source": [
    "This process has been covered on the first section, but just to present the data in a proper format, I have written the code again"
   ]
  },
  {
   "cell_type": "code",
   "execution_count": 16,
   "id": "09c7f424",
   "metadata": {},
   "outputs": [
    {
     "name": "stdout",
     "output_type": "stream",
     "text": [
      "AMAZON COM INVOICE\n",
      "440 Terry Avenue\n",
      "DATE INVOICE NO.\n",
      "North Seattle 03/18/20 5081189\n",
      "WA 98109 USA\n",
      "BILL TO SHIP TO\n",
      "PINNACLE SOLUTIONS PINNACLE SOLUTIONS 21747\n",
      "21747 BETRAM RD BETRAM RD\n",
      "SAN JOSE 95120 SAN JOSE 95120\n",
      "Accounts Payable M/S\n",
      "P.O. Number Terms Ship Date Due Date\n",
      "2020000032 Net 60 03/28/20 04/18/20\n",
      "ltem Description Quantity Price Each Amount\n",
      "A8025690 Premium A4 (8.3\"x 11.7\") Printer Paper (100 Sheets 500 9.95 4,975.00\n",
      "Subtotal USD4,975.00\n",
      "Sales Tax $0.00\n",
      "\n",
      "Total\n",
      "\n",
      "USD 4,975.00\n",
      "\n",
      "\n"
     ]
    }
   ],
   "source": [
    "print(final_text)"
   ]
  },
  {
   "cell_type": "markdown",
   "id": "103f16bd",
   "metadata": {},
   "source": [
    "### To get the invoice date\n",
    "\n",
    "* The invoice date will always be the earlierst among all the dates, considering the bill is paid on time. "
   ]
  },
  {
   "cell_type": "code",
   "execution_count": 17,
   "id": "c15dc010",
   "metadata": {},
   "outputs": [],
   "source": [
    "match=re.findall(r'\\d+[/.-]\\d+[/.-]\\d+', final_text)\n",
    "\n",
    "match.sort()"
   ]
  },
  {
   "cell_type": "code",
   "execution_count": 18,
   "id": "62cb2713",
   "metadata": {},
   "outputs": [
    {
     "data": {
      "text/plain": [
       "['03/18/20', '03/28/20', '04/18/20']"
      ]
     },
     "execution_count": 18,
     "metadata": {},
     "output_type": "execute_result"
    }
   ],
   "source": [
    "match"
   ]
  },
  {
   "cell_type": "code",
   "execution_count": 19,
   "id": "a8798483",
   "metadata": {
    "scrolled": true
   },
   "outputs": [
    {
     "name": "stdout",
     "output_type": "stream",
     "text": [
      "Invoice Date: 03/18/20\n"
     ]
    }
   ],
   "source": [
    "Invoice_date = match[0]\n",
    "print(\"Invoice Date: \"+Invoice_date)"
   ]
  },
  {
   "cell_type": "code",
   "execution_count": 21,
   "id": "bceb1690",
   "metadata": {
    "scrolled": true
   },
   "outputs": [
    {
     "data": {
      "text/plain": [
       "True"
      ]
     },
     "execution_count": 21,
     "metadata": {},
     "output_type": "execute_result"
    }
   ],
   "source": [
    "nltk.download('punkt',quiet=True)\n",
    "nltk.download('wordnet',quiet=True)"
   ]
  },
  {
   "cell_type": "markdown",
   "id": "6840d3f7",
   "metadata": {},
   "source": [
    "### Extract the title"
   ]
  },
  {
   "cell_type": "code",
   "execution_count": 22,
   "id": "000a5cd5",
   "metadata": {
    "scrolled": true
   },
   "outputs": [
    {
     "data": {
      "text/plain": [
       "'AMAZON COM INVOICE'"
      ]
     },
     "execution_count": 22,
     "metadata": {},
     "output_type": "execute_result"
    }
   ],
   "source": [
    "#lets try to extract title\n",
    "sent_tokens=nltk.sent_tokenize(final_text)\n",
    "#print(sent_tokens)\n",
    "sent_tokens[0].splitlines()[0]"
   ]
  },
  {
   "cell_type": "markdown",
   "id": "7c641d68",
   "metadata": {},
   "source": [
    "### Extract the invoice number"
   ]
  },
  {
   "cell_type": "markdown",
   "id": "a35e3bd4",
   "metadata": {},
   "source": [
    "Get all the numbers from the pdf text and store it in a list, which will later be used to extract the values"
   ]
  },
  {
   "cell_type": "code",
   "execution_count": 61,
   "id": "1e591cd0",
   "metadata": {},
   "outputs": [
    {
     "name": "stdout",
     "output_type": "stream",
     "text": [
      "['5081189', '98109', '21747', '21747', '95120', '95120', '2020000032', '8025690']\n"
     ]
    }
   ],
   "source": [
    "mat = re.findall(r'[0-9]{4,12}', final_text)\n",
    "print(mat)"
   ]
  },
  {
   "cell_type": "code",
   "execution_count": 58,
   "id": "43720dd4",
   "metadata": {},
   "outputs": [
    {
     "name": "stdout",
     "output_type": "stream",
     "text": [
      "['AMAZON COM INVOICE', '440 Terry Avenue', 'DATE INVOICE NO.', 'North Seattle 03/18/20 5081189', 'WA 98109 USA', 'BILL TO SHIP TO', 'PINNACLE SOLUTIONS PINNACLE SOLUTIONS 21747', '21747 BETRAM RD BETRAM RD', 'SAN JOSE 95120 SAN JOSE 95120', 'Accounts Payable M/S', 'P.O. Number Terms Ship Date Due Date', '2020000032 Net 60 03/28/20 04/18/20', 'ltem Description Quantity Price Each Amount', 'A8025690 Premium A4 (8.3\"x 11.7\") Printer Paper (100 Sheets 500 9.95 4,975.00', 'Subtotal USD4,975.00', 'Sales Tax $0.00', '', 'Total', '', 'USD 4,975.00', '', '']\n"
     ]
    }
   ],
   "source": [
    "txt = final_text.split(\"\\n\")\n",
    "\n",
    "print(txt)"
   ]
  },
  {
   "cell_type": "code",
   "execution_count": 75,
   "id": "d4679339",
   "metadata": {},
   "outputs": [
    {
     "name": "stdout",
     "output_type": "stream",
     "text": [
      "Invoive Number: 5081189\n"
     ]
    }
   ],
   "source": [
    "Invoive_Number=\"\"\n",
    "for i in range(len(txt)):\n",
    "    if txt[i].find(\"INVOICE NO.\")!= -1:\n",
    "        word = txt[i+1].split(\" \")\n",
    "        \n",
    "        for j in word:\n",
    "            if j in mat:\n",
    "                Invoive_Number = j\n",
    "\n",
    "print(\"Invoive Number: \" + Invoive_Number)        \n",
    "        "
   ]
  },
  {
   "cell_type": "markdown",
   "id": "504510ea",
   "metadata": {},
   "source": [
    "### Extract the P. O. Number"
   ]
  },
  {
   "cell_type": "code",
   "execution_count": 74,
   "id": "892e0846",
   "metadata": {},
   "outputs": [
    {
     "name": "stdout",
     "output_type": "stream",
     "text": [
      "P. O. Number: 2020000032\n"
     ]
    }
   ],
   "source": [
    "po_number = \"\"\n",
    "for i in range(len(txt)):\n",
    "    if txt[i].find(\"P.O. Number\")!= -1:\n",
    "        word = txt[i+1].split(\" \")\n",
    "        \n",
    "        for j in word:\n",
    "            if j in mat:\n",
    "                po_number = j\n",
    "\n",
    "print(\"P. O. Number: \" + po_number)        "
   ]
  },
  {
   "cell_type": "code",
   "execution_count": null,
   "id": "eb3ef3fa",
   "metadata": {},
   "outputs": [],
   "source": []
  },
  {
   "cell_type": "markdown",
   "id": "209e4042",
   "metadata": {},
   "source": [
    "Let's find all the keywords in this document"
   ]
  },
  {
   "cell_type": "code",
   "execution_count": 24,
   "id": "71642b0f",
   "metadata": {},
   "outputs": [],
   "source": [
    "text = final_text"
   ]
  },
  {
   "cell_type": "code",
   "execution_count": 25,
   "id": "94d65ec2",
   "metadata": {},
   "outputs": [
    {
     "name": "stdout",
     "output_type": "stream",
     "text": [
      "AMAZON COM INVOICE\n",
      "440 Terry Avenue\n",
      "DATE INVOICE NO.\n",
      "North Seattle 03/18/20 5081189\n",
      "WA 98109 USA\n",
      "BILL TO SHIP TO\n",
      "PINNACLE SOLUTIONS PINNACLE SOLUTIONS 21747\n",
      "21747 BETRAM RD BETRAM RD\n",
      "SAN JOSE 95120 SAN JOSE 95120\n",
      "Accounts Payable M/S\n",
      "P.O. Number Terms Ship Date Due Date\n",
      "2020000032 Net 60 03/28/20 04/18/20\n",
      "ltem Description Quantity Price Each Amount\n",
      "A8025690 Premium A4 (8.3\"x 11.7\") Printer Paper (100 Sheets 500 9.95 4,975.00\n",
      "Subtotal USD4,975.00\n",
      "Sales Tax $0.00\n",
      "\n",
      "Total\n",
      "\n",
      "USD 4,975.00\n",
      "\n",
      "\n"
     ]
    }
   ],
   "source": [
    "print(text)"
   ]
  },
  {
   "cell_type": "code",
   "execution_count": 26,
   "id": "3db78e1a",
   "metadata": {},
   "outputs": [
    {
     "data": {
      "text/plain": [
       "55"
      ]
     },
     "execution_count": 26,
     "metadata": {},
     "output_type": "execute_result"
    }
   ],
   "source": [
    "keywords = re.findall(r'[a-zA-Z]\\w+',text)\n",
    "len(keywords)   "
   ]
  },
  {
   "cell_type": "code",
   "execution_count": 27,
   "id": "c898ada3",
   "metadata": {},
   "outputs": [],
   "source": [
    "df = pd.DataFrame(list(set(keywords)),columns=['keywords'])"
   ]
  },
  {
   "cell_type": "code",
   "execution_count": 28,
   "id": "38e749f6",
   "metadata": {},
   "outputs": [
    {
     "data": {
      "text/html": [
       "<div>\n",
       "<style scoped>\n",
       "    .dataframe tbody tr th:only-of-type {\n",
       "        vertical-align: middle;\n",
       "    }\n",
       "\n",
       "    .dataframe tbody tr th {\n",
       "        vertical-align: top;\n",
       "    }\n",
       "\n",
       "    .dataframe thead th {\n",
       "        text-align: right;\n",
       "    }\n",
       "</style>\n",
       "<table border=\"1\" class=\"dataframe\">\n",
       "  <thead>\n",
       "    <tr style=\"text-align: right;\">\n",
       "      <th></th>\n",
       "      <th>keywords</th>\n",
       "    </tr>\n",
       "  </thead>\n",
       "  <tbody>\n",
       "    <tr>\n",
       "      <th>0</th>\n",
       "      <td>NO</td>\n",
       "    </tr>\n",
       "    <tr>\n",
       "      <th>1</th>\n",
       "      <td>RD</td>\n",
       "    </tr>\n",
       "    <tr>\n",
       "      <th>2</th>\n",
       "      <td>SHIP</td>\n",
       "    </tr>\n",
       "    <tr>\n",
       "      <th>3</th>\n",
       "      <td>AMAZON</td>\n",
       "    </tr>\n",
       "    <tr>\n",
       "      <th>4</th>\n",
       "      <td>ltem</td>\n",
       "    </tr>\n",
       "  </tbody>\n",
       "</table>\n",
       "</div>"
      ],
      "text/plain": [
       "  keywords\n",
       "0       NO\n",
       "1       RD\n",
       "2     SHIP\n",
       "3   AMAZON\n",
       "4     ltem"
      ]
     },
     "execution_count": 28,
     "metadata": {},
     "output_type": "execute_result"
    }
   ],
   "source": [
    "df.head()"
   ]
  },
  {
   "cell_type": "code",
   "execution_count": 29,
   "id": "d9f5f5c6",
   "metadata": {},
   "outputs": [],
   "source": [
    "def weightage(word,text,number_of_documents=1):\n",
    "    word_list = re.findall(word,text)\n",
    "    number_of_times_word_appeared =len(word_list)\n",
    "    tf = number_of_times_word_appeared/float(len(text))\n",
    "    idf = np.log((number_of_documents)/float(number_of_times_word_appeared))\n",
    "    tf_idf = tf*idf\n",
    "    return number_of_times_word_appeared,tf,idf ,tf_idf "
   ]
  },
  {
   "cell_type": "code",
   "execution_count": 30,
   "id": "79b7c530",
   "metadata": {},
   "outputs": [],
   "source": [
    "df['number_of_times_word_appeared'] = df['keywords'].apply(lambda x: weightage(x,text)[0])\n",
    "df['tf'] = df['keywords'].apply(lambda x: weightage(x,text)[1])\n",
    "df['idf'] = df['keywords'].apply(lambda x: weightage(x,text)[2])\n",
    "df['tf_idf'] = df['keywords'].apply(lambda x: weightage(x,text)[3])"
   ]
  },
  {
   "cell_type": "code",
   "execution_count": 31,
   "id": "1448a22b",
   "metadata": {},
   "outputs": [
    {
     "data": {
      "text/html": [
       "<div>\n",
       "<style scoped>\n",
       "    .dataframe tbody tr th:only-of-type {\n",
       "        vertical-align: middle;\n",
       "    }\n",
       "\n",
       "    .dataframe tbody tr th {\n",
       "        vertical-align: top;\n",
       "    }\n",
       "\n",
       "    .dataframe thead th {\n",
       "        text-align: right;\n",
       "    }\n",
       "</style>\n",
       "<table border=\"1\" class=\"dataframe\">\n",
       "  <thead>\n",
       "    <tr style=\"text-align: right;\">\n",
       "      <th></th>\n",
       "      <th>keywords</th>\n",
       "      <th>number_of_times_word_appeared</th>\n",
       "      <th>tf</th>\n",
       "      <th>idf</th>\n",
       "      <th>tf_idf</th>\n",
       "    </tr>\n",
       "  </thead>\n",
       "  <tbody>\n",
       "    <tr>\n",
       "      <th>1</th>\n",
       "      <td>RD</td>\n",
       "      <td>2</td>\n",
       "      <td>0.004098</td>\n",
       "      <td>-0.693147</td>\n",
       "      <td>-0.002841</td>\n",
       "    </tr>\n",
       "    <tr>\n",
       "      <th>43</th>\n",
       "      <td>SOLUTIONS</td>\n",
       "      <td>2</td>\n",
       "      <td>0.004098</td>\n",
       "      <td>-0.693147</td>\n",
       "      <td>-0.002841</td>\n",
       "    </tr>\n",
       "    <tr>\n",
       "      <th>20</th>\n",
       "      <td>INVOICE</td>\n",
       "      <td>2</td>\n",
       "      <td>0.004098</td>\n",
       "      <td>-0.693147</td>\n",
       "      <td>-0.002841</td>\n",
       "    </tr>\n",
       "    <tr>\n",
       "      <th>40</th>\n",
       "      <td>BETRAM</td>\n",
       "      <td>2</td>\n",
       "      <td>0.004098</td>\n",
       "      <td>-0.693147</td>\n",
       "      <td>-0.002841</td>\n",
       "    </tr>\n",
       "    <tr>\n",
       "      <th>38</th>\n",
       "      <td>PINNACLE</td>\n",
       "      <td>2</td>\n",
       "      <td>0.004098</td>\n",
       "      <td>-0.693147</td>\n",
       "      <td>-0.002841</td>\n",
       "    </tr>\n",
       "  </tbody>\n",
       "</table>\n",
       "</div>"
      ],
      "text/plain": [
       "     keywords  number_of_times_word_appeared        tf       idf    tf_idf\n",
       "1          RD                              2  0.004098 -0.693147 -0.002841\n",
       "43  SOLUTIONS                              2  0.004098 -0.693147 -0.002841\n",
       "20    INVOICE                              2  0.004098 -0.693147 -0.002841\n",
       "40     BETRAM                              2  0.004098 -0.693147 -0.002841\n",
       "38   PINNACLE                              2  0.004098 -0.693147 -0.002841"
      ]
     },
     "execution_count": 31,
     "metadata": {},
     "output_type": "execute_result"
    }
   ],
   "source": [
    "df = df.sort_values('tf_idf',ascending=True)\n",
    "df.to_csv('Keywords.csv')\n",
    "df.head()"
   ]
  },
  {
   "cell_type": "code",
   "execution_count": null,
   "id": "26695549",
   "metadata": {},
   "outputs": [],
   "source": []
  },
  {
   "cell_type": "markdown",
   "id": "e0523c3f",
   "metadata": {},
   "source": [
    "The above keyword and value extraction method is used only if we know the exact format of the pdf that we are parsing, and cannot be used dynamically.\n",
    "\n",
    "To make an dynamic invoice parser, we need a CNN model which detects if the data in the PDF is in tabular format and if it is, save the text according to the table values, which makes it easier to extract the keyword and it's value. More can be read here: https://medium.com/analytics-vidhya/invoice-information-extraction-using-ocr-and-deep-learning-b79464f54d69"
   ]
  },
  {
   "cell_type": "code",
   "execution_count": null,
   "id": "56b66640",
   "metadata": {},
   "outputs": [],
   "source": []
  }
 ],
 "metadata": {
  "kernelspec": {
   "display_name": "Python 3",
   "language": "python",
   "name": "python3"
  },
  "language_info": {
   "codemirror_mode": {
    "name": "ipython",
    "version": 3
   },
   "file_extension": ".py",
   "mimetype": "text/x-python",
   "name": "python",
   "nbconvert_exporter": "python",
   "pygments_lexer": "ipython3",
   "version": "3.7.3"
  }
 },
 "nbformat": 4,
 "nbformat_minor": 5
}
