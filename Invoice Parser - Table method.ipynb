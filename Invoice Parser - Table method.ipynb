{
 "cells": [
  {
   "cell_type": "markdown",
   "id": "b39d31f3",
   "metadata": {},
   "source": [
    "# Technical Assignment"
   ]
  },
  {
   "cell_type": "markdown",
   "id": "bcdb7992",
   "metadata": {},
   "source": [
    "## 1. Reading the data from the PDF\n",
    "\n",
    "* Given two PDF's: pinnacle_inv_2020000032 and pinnacle_inv_3300004000\n",
    "* Read these two PDF's using EasyOCR and PyTesseract only\n",
    "\n",
    "* Normalize the PDF's into images and then extract the contents using PyTesseract."
   ]
  },
  {
   "cell_type": "code",
   "execution_count": 5,
   "id": "1c77596a",
   "metadata": {},
   "outputs": [],
   "source": [
    "import tabula as tb"
   ]
  },
  {
   "cell_type": "code",
   "execution_count": 2,
   "id": "8a7eda84",
   "metadata": {},
   "outputs": [],
   "source": [
    "import pandas as pd"
   ]
  },
  {
   "cell_type": "code",
   "execution_count": 3,
   "id": "cf9c95ae",
   "metadata": {},
   "outputs": [],
   "source": [
    "file = \"inv_2020000032.pdf\""
   ]
  },
  {
   "cell_type": "code",
   "execution_count": 6,
   "id": "8cc9496f",
   "metadata": {},
   "outputs": [
    {
     "name": "stderr",
     "output_type": "stream",
     "text": [
      "'pages' argument isn't specified.Will extract only from page 1 by default.\n"
     ]
    }
   ],
   "source": [
    "table = tb.read_pdf(file)"
   ]
  },
  {
   "cell_type": "code",
   "execution_count": 7,
   "id": "97974b05",
   "metadata": {},
   "outputs": [
    {
     "name": "stderr",
     "output_type": "stream",
     "text": [
      "'pages' argument isn't specified.Will extract only from page 1 by default.\n"
     ]
    }
   ],
   "source": [
    "csv = tb.convert_into(file, 'pdf_convet.csv')"
   ]
  },
  {
   "cell_type": "code",
   "execution_count": 68,
   "id": "50added5",
   "metadata": {},
   "outputs": [],
   "source": [
    "df = pd.concat(table)"
   ]
  },
  {
   "cell_type": "code",
   "execution_count": 69,
   "id": "508d8a3d",
   "metadata": {},
   "outputs": [
    {
     "data": {
      "text/html": [
       "<div>\n",
       "<style scoped>\n",
       "    .dataframe tbody tr th:only-of-type {\n",
       "        vertical-align: middle;\n",
       "    }\n",
       "\n",
       "    .dataframe tbody tr th {\n",
       "        vertical-align: top;\n",
       "    }\n",
       "\n",
       "    .dataframe thead th {\n",
       "        text-align: right;\n",
       "    }\n",
       "</style>\n",
       "<table border=\"1\" class=\"dataframe\">\n",
       "  <thead>\n",
       "    <tr style=\"text-align: right;\">\n",
       "      <th></th>\n",
       "      <th>Unnamed: 0</th>\n",
       "      <th>DATE</th>\n",
       "      <th>INVOICE NO.</th>\n",
       "      <th>P.O. Number</th>\n",
       "      <th>Terms</th>\n",
       "      <th>Ship Date</th>\n",
       "      <th>Due Date</th>\n",
       "      <th>Item</th>\n",
       "      <th>Description</th>\n",
       "      <th>Quantity</th>\n",
       "      <th>Price Each</th>\n",
       "      <th>Amount</th>\n",
       "    </tr>\n",
       "  </thead>\n",
       "  <tbody>\n",
       "    <tr>\n",
       "      <th>0</th>\n",
       "      <td>North Seattle</td>\n",
       "      <td>03/18/20</td>\n",
       "      <td>5081189.0</td>\n",
       "      <td>NaN</td>\n",
       "      <td>NaN</td>\n",
       "      <td>NaN</td>\n",
       "      <td>NaN</td>\n",
       "      <td>NaN</td>\n",
       "      <td>NaN</td>\n",
       "      <td>NaN</td>\n",
       "      <td>NaN</td>\n",
       "      <td>NaN</td>\n",
       "    </tr>\n",
       "    <tr>\n",
       "      <th>0</th>\n",
       "      <td>NaN</td>\n",
       "      <td>NaN</td>\n",
       "      <td>NaN</td>\n",
       "      <td>2.020000e+09</td>\n",
       "      <td>Net 60</td>\n",
       "      <td>03/28/20</td>\n",
       "      <td>04/18/20</td>\n",
       "      <td>NaN</td>\n",
       "      <td>NaN</td>\n",
       "      <td>NaN</td>\n",
       "      <td>NaN</td>\n",
       "      <td>NaN</td>\n",
       "    </tr>\n",
       "    <tr>\n",
       "      <th>0</th>\n",
       "      <td>NaN</td>\n",
       "      <td>NaN</td>\n",
       "      <td>NaN</td>\n",
       "      <td>NaN</td>\n",
       "      <td>NaN</td>\n",
       "      <td>NaN</td>\n",
       "      <td>NaN</td>\n",
       "      <td>48025690.0</td>\n",
       "      <td>Premium A4 (8.3\"x 11.7\") Printer Paper (100 Sh...</td>\n",
       "      <td>500.0</td>\n",
       "      <td>9.95</td>\n",
       "      <td>4,975.00</td>\n",
       "    </tr>\n",
       "    <tr>\n",
       "      <th>1</th>\n",
       "      <td>NaN</td>\n",
       "      <td>NaN</td>\n",
       "      <td>NaN</td>\n",
       "      <td>NaN</td>\n",
       "      <td>NaN</td>\n",
       "      <td>NaN</td>\n",
       "      <td>NaN</td>\n",
       "      <td>NaN</td>\n",
       "      <td>NaN</td>\n",
       "      <td>NaN</td>\n",
       "      <td>Subtotal</td>\n",
       "      <td>USD4,975.00</td>\n",
       "    </tr>\n",
       "    <tr>\n",
       "      <th>2</th>\n",
       "      <td>NaN</td>\n",
       "      <td>NaN</td>\n",
       "      <td>NaN</td>\n",
       "      <td>NaN</td>\n",
       "      <td>NaN</td>\n",
       "      <td>NaN</td>\n",
       "      <td>NaN</td>\n",
       "      <td>NaN</td>\n",
       "      <td>NaN</td>\n",
       "      <td>NaN</td>\n",
       "      <td>Sales Tax</td>\n",
       "      <td>$0.00</td>\n",
       "    </tr>\n",
       "    <tr>\n",
       "      <th>3</th>\n",
       "      <td>NaN</td>\n",
       "      <td>NaN</td>\n",
       "      <td>NaN</td>\n",
       "      <td>NaN</td>\n",
       "      <td>NaN</td>\n",
       "      <td>NaN</td>\n",
       "      <td>NaN</td>\n",
       "      <td>NaN</td>\n",
       "      <td>NaN</td>\n",
       "      <td>NaN</td>\n",
       "      <td>Total</td>\n",
       "      <td>USD 4,975.00</td>\n",
       "    </tr>\n",
       "  </tbody>\n",
       "</table>\n",
       "</div>"
      ],
      "text/plain": [
       "      Unnamed: 0      DATE  INVOICE NO.   P.O. Number   Terms Ship Date  \\\n",
       "0  North Seattle  03/18/20    5081189.0           NaN     NaN       NaN   \n",
       "0            NaN       NaN          NaN  2.020000e+09  Net 60  03/28/20   \n",
       "0            NaN       NaN          NaN           NaN     NaN       NaN   \n",
       "1            NaN       NaN          NaN           NaN     NaN       NaN   \n",
       "2            NaN       NaN          NaN           NaN     NaN       NaN   \n",
       "3            NaN       NaN          NaN           NaN     NaN       NaN   \n",
       "\n",
       "   Due Date        Item                                        Description  \\\n",
       "0       NaN         NaN                                                NaN   \n",
       "0  04/18/20         NaN                                                NaN   \n",
       "0       NaN  48025690.0  Premium A4 (8.3\"x 11.7\") Printer Paper (100 Sh...   \n",
       "1       NaN         NaN                                                NaN   \n",
       "2       NaN         NaN                                                NaN   \n",
       "3       NaN         NaN                                                NaN   \n",
       "\n",
       "   Quantity Price Each        Amount  \n",
       "0       NaN        NaN           NaN  \n",
       "0       NaN        NaN           NaN  \n",
       "0     500.0       9.95      4,975.00  \n",
       "1       NaN   Subtotal   USD4,975.00  \n",
       "2       NaN  Sales Tax         $0.00  \n",
       "3       NaN      Total  USD 4,975.00  "
      ]
     },
     "execution_count": 69,
     "metadata": {},
     "output_type": "execute_result"
    }
   ],
   "source": [
    "df"
   ]
  },
  {
   "cell_type": "code",
   "execution_count": 70,
   "id": "d27bc280",
   "metadata": {
    "scrolled": true
   },
   "outputs": [
    {
     "data": {
      "text/html": [
       "<div>\n",
       "<style scoped>\n",
       "    .dataframe tbody tr th:only-of-type {\n",
       "        vertical-align: middle;\n",
       "    }\n",
       "\n",
       "    .dataframe tbody tr th {\n",
       "        vertical-align: top;\n",
       "    }\n",
       "\n",
       "    .dataframe thead th {\n",
       "        text-align: right;\n",
       "    }\n",
       "</style>\n",
       "<table border=\"1\" class=\"dataframe\">\n",
       "  <thead>\n",
       "    <tr style=\"text-align: right;\">\n",
       "      <th></th>\n",
       "      <th>DATE</th>\n",
       "      <th>INVOICE NO.</th>\n",
       "      <th>P.O. Number</th>\n",
       "      <th>Ship Date</th>\n",
       "      <th>Due Date</th>\n",
       "      <th>Item</th>\n",
       "      <th>Quantity</th>\n",
       "      <th>Price Each</th>\n",
       "      <th>Amount</th>\n",
       "    </tr>\n",
       "  </thead>\n",
       "  <tbody>\n",
       "    <tr>\n",
       "      <th>0</th>\n",
       "      <td>03/18/20</td>\n",
       "      <td>5081189.0</td>\n",
       "      <td>NaN</td>\n",
       "      <td>NaN</td>\n",
       "      <td>NaN</td>\n",
       "      <td>NaN</td>\n",
       "      <td>NaN</td>\n",
       "      <td>NaN</td>\n",
       "      <td>NaN</td>\n",
       "    </tr>\n",
       "    <tr>\n",
       "      <th>0</th>\n",
       "      <td>NaN</td>\n",
       "      <td>NaN</td>\n",
       "      <td>2.020000e+09</td>\n",
       "      <td>03/28/20</td>\n",
       "      <td>04/18/20</td>\n",
       "      <td>NaN</td>\n",
       "      <td>NaN</td>\n",
       "      <td>NaN</td>\n",
       "      <td>NaN</td>\n",
       "    </tr>\n",
       "    <tr>\n",
       "      <th>0</th>\n",
       "      <td>NaN</td>\n",
       "      <td>NaN</td>\n",
       "      <td>NaN</td>\n",
       "      <td>NaN</td>\n",
       "      <td>NaN</td>\n",
       "      <td>48025690.0</td>\n",
       "      <td>500.0</td>\n",
       "      <td>9.95</td>\n",
       "      <td>4,975.00</td>\n",
       "    </tr>\n",
       "    <tr>\n",
       "      <th>1</th>\n",
       "      <td>NaN</td>\n",
       "      <td>NaN</td>\n",
       "      <td>NaN</td>\n",
       "      <td>NaN</td>\n",
       "      <td>NaN</td>\n",
       "      <td>NaN</td>\n",
       "      <td>NaN</td>\n",
       "      <td>Subtotal</td>\n",
       "      <td>USD4,975.00</td>\n",
       "    </tr>\n",
       "    <tr>\n",
       "      <th>2</th>\n",
       "      <td>NaN</td>\n",
       "      <td>NaN</td>\n",
       "      <td>NaN</td>\n",
       "      <td>NaN</td>\n",
       "      <td>NaN</td>\n",
       "      <td>NaN</td>\n",
       "      <td>NaN</td>\n",
       "      <td>Sales Tax</td>\n",
       "      <td>$0.00</td>\n",
       "    </tr>\n",
       "    <tr>\n",
       "      <th>3</th>\n",
       "      <td>NaN</td>\n",
       "      <td>NaN</td>\n",
       "      <td>NaN</td>\n",
       "      <td>NaN</td>\n",
       "      <td>NaN</td>\n",
       "      <td>NaN</td>\n",
       "      <td>NaN</td>\n",
       "      <td>Total</td>\n",
       "      <td>USD 4,975.00</td>\n",
       "    </tr>\n",
       "  </tbody>\n",
       "</table>\n",
       "</div>"
      ],
      "text/plain": [
       "       DATE  INVOICE NO.   P.O. Number Ship Date  Due Date        Item  \\\n",
       "0  03/18/20    5081189.0           NaN       NaN       NaN         NaN   \n",
       "0       NaN          NaN  2.020000e+09  03/28/20  04/18/20         NaN   \n",
       "0       NaN          NaN           NaN       NaN       NaN  48025690.0   \n",
       "1       NaN          NaN           NaN       NaN       NaN         NaN   \n",
       "2       NaN          NaN           NaN       NaN       NaN         NaN   \n",
       "3       NaN          NaN           NaN       NaN       NaN         NaN   \n",
       "\n",
       "   Quantity Price Each        Amount  \n",
       "0       NaN        NaN           NaN  \n",
       "0       NaN        NaN           NaN  \n",
       "0     500.0       9.95      4,975.00  \n",
       "1       NaN   Subtotal   USD4,975.00  \n",
       "2       NaN  Sales Tax         $0.00  \n",
       "3       NaN      Total  USD 4,975.00  "
      ]
     },
     "execution_count": 70,
     "metadata": {},
     "output_type": "execute_result"
    }
   ],
   "source": [
    "colm = ['Unnamed: 0', 'Description', 'Terms']\n",
    "df = df.drop(colm, axis = 1)\n",
    "df"
   ]
  },
  {
   "cell_type": "code",
   "execution_count": 78,
   "id": "3d8524be",
   "metadata": {},
   "outputs": [],
   "source": [
    "df = df.fillna(method='ffill', axis=0)"
   ]
  },
  {
   "cell_type": "code",
   "execution_count": 79,
   "id": "9a021050",
   "metadata": {},
   "outputs": [
    {
     "data": {
      "text/plain": [
       "DATE               03/18/20\n",
       "INVOICE NO.       5081189.0\n",
       "P.O. Number    2020000032.0\n",
       "Ship Date          03/28/20\n",
       "Due Date           04/18/20\n",
       "Item             48025690.0\n",
       "Quantity              500.0\n",
       "Price Each            Total\n",
       "Amount         USD 4,975.00\n",
       "Name: 3, dtype: object"
      ]
     },
     "execution_count": 79,
     "metadata": {},
     "output_type": "execute_result"
    }
   ],
   "source": [
    "df.iloc[-1]"
   ]
  },
  {
   "cell_type": "code",
   "execution_count": null,
   "id": "a89749aa",
   "metadata": {},
   "outputs": [],
   "source": []
  },
  {
   "cell_type": "code",
   "execution_count": null,
   "id": "2d11c7f3",
   "metadata": {},
   "outputs": [],
   "source": []
  }
 ],
 "metadata": {
  "kernelspec": {
   "display_name": "Python 3",
   "language": "python",
   "name": "python3"
  },
  "language_info": {
   "codemirror_mode": {
    "name": "ipython",
    "version": 3
   },
   "file_extension": ".py",
   "mimetype": "text/x-python",
   "name": "python",
   "nbconvert_exporter": "python",
   "pygments_lexer": "ipython3",
   "version": "3.7.3"
  }
 },
 "nbformat": 4,
 "nbformat_minor": 5
}
